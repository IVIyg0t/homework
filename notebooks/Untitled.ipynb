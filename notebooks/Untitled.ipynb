{
 "cells": [
  {
   "cell_type": "code",
   "execution_count": 25,
   "id": "structural-empty",
   "metadata": {},
   "outputs": [
    {
     "name": "stdout",
     "output_type": "stream",
     "text": [
      "len(puzzle) = 9\n",
      "len(solved_puzzle) = 9\n",
      "energy = 2 - 2\n",
      "energy = 8 - 3\n",
      "energy = 3 - 8\n",
      "energy = 1 - 0\n",
      "energy = 6 - 4\n",
      "energy = 4 - 7\n",
      "energy = 7 - 6\n",
      "energy = 5 - 2\n",
      "4\n"
     ]
    }
   ],
   "source": [
    "puzzle = [2,8,3,1,6,4,7,0,5]\n",
    "solved_puzzle = [1,2,3,8,0,4,7,6,5]\\\n",
    "\n",
    "print(f'len(puzzle) = {len(puzzle)}')\n",
    "print(f'len(solved_puzzle) = {len(solved_puzzle)}')\n",
    "energy = 0\n",
    "for i, puz in enumerate(puzzle):\n",
    "    j = (i % (len(solved_puzzle) - 1)) + 1\n",
    "    if puz != 0:\n",
    "        energy += puz - solved_puzzle[j]\n",
    "        print(f'energy = {puz} - {solved_puzzle[j]}')\n",
    "    \n",
    "print(energy)"
   ]
  },
  {
   "cell_type": "markdown",
   "id": "standard-chase",
   "metadata": {
    "tags": []
   },
   "source": [
    "# Given a list(puzzle) and a goal list(solved puzzle), \n",
    "\n",
    "```\n",
    "#I need to determine the energy of the first \n",
    "#list in relation to the goal list\n",
    "\n",
    "puzzle = [2,8,3,1,6,4,7,0,5]  # for example, the number 6 is at index 4 in the list\n",
    "for i, val in enumerate(puzzle):\n",
    "    print(i, \",\" ,val)\n",
    "print(\"-------\")\n",
    "solved_puzzle = [1,2,3,8,0,4,7,6,5]  # number 6 is solved when at index 7\n",
    "for i, val in enumerate(solved_puzzle):\n",
    "    print(i, \",\" ,val)\n",
    "\n",
    "```\n",
    "**The energy for the puzzle is the `sum(distance(current_index, solved_index))`**\n",
    "\n",
    "```\n",
    "0 , 2\n",
    "1 , 8\n",
    "2 , 3\n",
    "3 , 1\n",
    "4 , 6\n",
    "5 , 4\n",
    "6 , 7\n",
    "7 , 0\n",
    "8 , 5\n",
    "-------\n",
    "0 , 1\n",
    "1 , 2\n",
    "2 , 3\n",
    "3 , 8\n",
    "4 , 0\n",
    "5 , 4\n",
    "6 , 7\n",
    "7 , 6\n",
    "8 , 5\n",
    "```"
   ]
  },
  {
   "cell_type": "code",
   "execution_count": 6,
   "id": "adaptive-throat",
   "metadata": {},
   "outputs": [
    {
     "data": {
      "text/plain": [
       "0"
      ]
     },
     "execution_count": 6,
     "metadata": {},
     "output_type": "execute_result"
    }
   ],
   "source": [
    "9%9"
   ]
  },
  {
   "cell_type": "code",
   "execution_count": null,
   "id": "traditional-symbol",
   "metadata": {},
   "outputs": [],
   "source": []
  }
 ],
 "metadata": {
  "kernelspec": {
   "display_name": "Python 3",
   "language": "python",
   "name": "python3"
  },
  "language_info": {
   "codemirror_mode": {
    "name": "ipython",
    "version": 3
   },
   "file_extension": ".py",
   "mimetype": "text/x-python",
   "name": "python",
   "nbconvert_exporter": "python",
   "pygments_lexer": "ipython3",
   "version": "3.8.8"
  }
 },
 "nbformat": 4,
 "nbformat_minor": 5
}
